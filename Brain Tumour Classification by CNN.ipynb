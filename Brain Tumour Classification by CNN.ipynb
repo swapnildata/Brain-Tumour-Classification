{
 "cells": [
  {
   "cell_type": "code",
   "execution_count": 2,
   "id": "76ahMEgp5soJ",
   "metadata": {
    "colab": {
     "base_uri": "https://localhost:8080/"
    },
    "executionInfo": {
     "elapsed": 37566,
     "status": "ok",
     "timestamp": 1653112422086,
     "user": {
      "displayName": "swapnil powar",
      "userId": "11396351717899233413"
     },
     "user_tz": -330
    },
    "id": "76ahMEgp5soJ",
    "outputId": "d395040b-c870-4a4f-f81d-8394ea9cac4a"
   },
   "outputs": [
    {
     "name": "stdout",
     "output_type": "stream",
     "text": [
      "Mounted at /content/drive\n"
     ]
    }
   ],
   "source": [
    "from google.colab import drive\n",
    "drive.mount('/content/drive')"
   ]
  },
  {
   "cell_type": "code",
   "execution_count": 3,
   "id": "eC_p1BHF5tZB",
   "metadata": {
    "executionInfo": {
     "elapsed": 1954,
     "status": "ok",
     "timestamp": 1653112424032,
     "user": {
      "displayName": "swapnil powar",
      "userId": "11396351717899233413"
     },
     "user_tz": -330
    },
    "id": "eC_p1BHF5tZB"
   },
   "outputs": [],
   "source": [
    "import numpy as np\n",
    "import keras"
   ]
  },
  {
   "cell_type": "code",
   "execution_count": 4,
   "id": "GAFwBf0ZEZAD",
   "metadata": {
    "executionInfo": {
     "elapsed": 6,
     "status": "ok",
     "timestamp": 1653112424032,
     "user": {
      "displayName": "swapnil powar",
      "userId": "11396351717899233413"
     },
     "user_tz": -330
    },
    "id": "GAFwBf0ZEZAD"
   },
   "outputs": [],
   "source": [
    "from keras.models import Sequential\n",
    "from keras.layers import Conv2D\n",
    "from keras.layers import MaxPooling2D\n",
    "from keras.layers import Flatten\n",
    "from keras.layers import Dense"
   ]
  },
  {
   "cell_type": "code",
   "execution_count": 5,
   "id": "Msg3KA28EfWQ",
   "metadata": {
    "executionInfo": {
     "elapsed": 3500,
     "status": "ok",
     "timestamp": 1653112427527,
     "user": {
      "displayName": "swapnil powar",
      "userId": "11396351717899233413"
     },
     "user_tz": -330
    },
    "id": "Msg3KA28EfWQ"
   },
   "outputs": [],
   "source": [
    "#Creating the Convolutional Neural Network\n",
    "model=Sequential()\n",
    "model.add(Conv2D(filters=32,kernel_size=3,activation='relu',input_shape=(64,64,3)))"
   ]
  },
  {
   "cell_type": "code",
   "execution_count": 6,
   "id": "QL847cu4E5bx",
   "metadata": {
    "executionInfo": {
     "elapsed": 36,
     "status": "ok",
     "timestamp": 1653112427528,
     "user": {
      "displayName": "swapnil powar",
      "userId": "11396351717899233413"
     },
     "user_tz": -330
    },
    "id": "QL847cu4E5bx"
   },
   "outputs": [],
   "source": [
    "model.add(MaxPooling2D(pool_size=2))"
   ]
  },
  {
   "cell_type": "code",
   "execution_count": 7,
   "id": "BsLXfpXWE7Zn",
   "metadata": {
    "executionInfo": {
     "elapsed": 36,
     "status": "ok",
     "timestamp": 1653112427529,
     "user": {
      "displayName": "swapnil powar",
      "userId": "11396351717899233413"
     },
     "user_tz": -330
    },
    "id": "BsLXfpXWE7Zn"
   },
   "outputs": [],
   "source": [
    "model.add(Conv2D(filters=32,kernel_size=3,activation='relu',))\n",
    "model.add(MaxPooling2D(pool_size=2))"
   ]
  },
  {
   "cell_type": "code",
   "execution_count": 8,
   "id": "DPU5oT_RE95z",
   "metadata": {
    "executionInfo": {
     "elapsed": 37,
     "status": "ok",
     "timestamp": 1653112427529,
     "user": {
      "displayName": "swapnil powar",
      "userId": "11396351717899233413"
     },
     "user_tz": -330
    },
    "id": "DPU5oT_RE95z"
   },
   "outputs": [],
   "source": [
    "model.add(Conv2D(filters=32,kernel_size=3,activation='relu'))\n",
    "model.add(MaxPooling2D(pool_size=2))"
   ]
  },
  {
   "cell_type": "code",
   "execution_count": 9,
   "id": "O33mIf16E_y1",
   "metadata": {
    "executionInfo": {
     "elapsed": 36,
     "status": "ok",
     "timestamp": 1653112427530,
     "user": {
      "displayName": "swapnil powar",
      "userId": "11396351717899233413"
     },
     "user_tz": -330
    },
    "id": "O33mIf16E_y1"
   },
   "outputs": [],
   "source": [
    "model.add(Conv2D(filters=32,kernel_size=3,activation='relu'))\n",
    "model.add(MaxPooling2D(pool_size=2))"
   ]
  },
  {
   "cell_type": "code",
   "execution_count": 10,
   "id": "ye-s145sFCj_",
   "metadata": {
    "executionInfo": {
     "elapsed": 36,
     "status": "ok",
     "timestamp": 1653112427531,
     "user": {
      "displayName": "swapnil powar",
      "userId": "11396351717899233413"
     },
     "user_tz": -330
    },
    "id": "ye-s145sFCj_"
   },
   "outputs": [],
   "source": [
    "#Adding the flattened layer\n",
    "model.add(Flatten())"
   ]
  },
  {
   "cell_type": "code",
   "execution_count": 11,
   "id": "p7nCO_Z0FI-z",
   "metadata": {
    "colab": {
     "base_uri": "https://localhost:8080/"
    },
    "executionInfo": {
     "elapsed": 37,
     "status": "ok",
     "timestamp": 1653112427532,
     "user": {
      "displayName": "swapnil powar",
      "userId": "11396351717899233413"
     },
     "user_tz": -330
    },
    "id": "p7nCO_Z0FI-z",
    "outputId": "a74a8be7-61fe-450d-9ba5-9d954a6008cd"
   },
   "outputs": [
    {
     "name": "stdout",
     "output_type": "stream",
     "text": [
      "Model: \"sequential\"\n",
      "_________________________________________________________________\n",
      " Layer (type)                Output Shape              Param #   \n",
      "=================================================================\n",
      " conv2d (Conv2D)             (None, 62, 62, 32)        896       \n",
      "                                                                 \n",
      " max_pooling2d (MaxPooling2D  (None, 31, 31, 32)       0         \n",
      " )                                                               \n",
      "                                                                 \n",
      " conv2d_1 (Conv2D)           (None, 29, 29, 32)        9248      \n",
      "                                                                 \n",
      " max_pooling2d_1 (MaxPooling  (None, 14, 14, 32)       0         \n",
      " 2D)                                                             \n",
      "                                                                 \n",
      " conv2d_2 (Conv2D)           (None, 12, 12, 32)        9248      \n",
      "                                                                 \n",
      " max_pooling2d_2 (MaxPooling  (None, 6, 6, 32)         0         \n",
      " 2D)                                                             \n",
      "                                                                 \n",
      " conv2d_3 (Conv2D)           (None, 4, 4, 32)          9248      \n",
      "                                                                 \n",
      " max_pooling2d_3 (MaxPooling  (None, 2, 2, 32)         0         \n",
      " 2D)                                                             \n",
      "                                                                 \n",
      " flatten (Flatten)           (None, 128)               0         \n",
      "                                                                 \n",
      "=================================================================\n",
      "Total params: 28,640\n",
      "Trainable params: 28,640\n",
      "Non-trainable params: 0\n",
      "_________________________________________________________________\n"
     ]
    }
   ],
   "source": [
    "#Model summery\n",
    "model.summary()"
   ]
  },
  {
   "cell_type": "code",
   "execution_count": 12,
   "id": "NiyNaYZUFN5O",
   "metadata": {
    "executionInfo": {
     "elapsed": 28,
     "status": "ok",
     "timestamp": 1653112427532,
     "user": {
      "displayName": "swapnil powar",
      "userId": "11396351717899233413"
     },
     "user_tz": -330
    },
    "id": "NiyNaYZUFN5O"
   },
   "outputs": [],
   "source": [
    "#Creating the ANN\n",
    "model.add(Dense(units=512,activation='relu',kernel_initializer='uniform'))\n",
    "model.add(Dense(units=512,activation='relu',kernel_initializer='uniform'))\n",
    "model.add(Dense(units=512,activation='relu',kernel_initializer='uniform'))"
   ]
  },
  {
   "cell_type": "code",
   "execution_count": 13,
   "id": "i9ovw-RSFj5B",
   "metadata": {
    "executionInfo": {
     "elapsed": 29,
     "status": "ok",
     "timestamp": 1653112427533,
     "user": {
      "displayName": "swapnil powar",
      "userId": "11396351717899233413"
     },
     "user_tz": -330
    },
    "id": "i9ovw-RSFj5B"
   },
   "outputs": [],
   "source": [
    "model.add(Dense(units=4,activation='softmax',kernel_initializer='uniform'))"
   ]
  },
  {
   "cell_type": "code",
   "execution_count": 14,
   "id": "aplRmg2aF5n9",
   "metadata": {
    "executionInfo": {
     "elapsed": 29,
     "status": "ok",
     "timestamp": 1653112427534,
     "user": {
      "displayName": "swapnil powar",
      "userId": "11396351717899233413"
     },
     "user_tz": -330
    },
    "id": "aplRmg2aF5n9"
   },
   "outputs": [],
   "source": [
    "model.compile(optimizer='adam',loss=\"categorical_crossentropy\",metrics=['accuracy'])"
   ]
  },
  {
   "cell_type": "code",
   "execution_count": 15,
   "id": "rRbugpOgF-TX",
   "metadata": {
    "colab": {
     "base_uri": "https://localhost:8080/"
    },
    "executionInfo": {
     "elapsed": 30,
     "status": "ok",
     "timestamp": 1653112427535,
     "user": {
      "displayName": "swapnil powar",
      "userId": "11396351717899233413"
     },
     "user_tz": -330
    },
    "id": "rRbugpOgF-TX",
    "outputId": "7e0d020f-9180-49cb-edb4-be1a681509b1"
   },
   "outputs": [
    {
     "name": "stdout",
     "output_type": "stream",
     "text": [
      "Model: \"sequential\"\n",
      "_________________________________________________________________\n",
      " Layer (type)                Output Shape              Param #   \n",
      "=================================================================\n",
      " conv2d (Conv2D)             (None, 62, 62, 32)        896       \n",
      "                                                                 \n",
      " max_pooling2d (MaxPooling2D  (None, 31, 31, 32)       0         \n",
      " )                                                               \n",
      "                                                                 \n",
      " conv2d_1 (Conv2D)           (None, 29, 29, 32)        9248      \n",
      "                                                                 \n",
      " max_pooling2d_1 (MaxPooling  (None, 14, 14, 32)       0         \n",
      " 2D)                                                             \n",
      "                                                                 \n",
      " conv2d_2 (Conv2D)           (None, 12, 12, 32)        9248      \n",
      "                                                                 \n",
      " max_pooling2d_2 (MaxPooling  (None, 6, 6, 32)         0         \n",
      " 2D)                                                             \n",
      "                                                                 \n",
      " conv2d_3 (Conv2D)           (None, 4, 4, 32)          9248      \n",
      "                                                                 \n",
      " max_pooling2d_3 (MaxPooling  (None, 2, 2, 32)         0         \n",
      " 2D)                                                             \n",
      "                                                                 \n",
      " flatten (Flatten)           (None, 128)               0         \n",
      "                                                                 \n",
      " dense (Dense)               (None, 512)               66048     \n",
      "                                                                 \n",
      " dense_1 (Dense)             (None, 512)               262656    \n",
      "                                                                 \n",
      " dense_2 (Dense)             (None, 512)               262656    \n",
      "                                                                 \n",
      " dense_3 (Dense)             (None, 4)                 2052      \n",
      "                                                                 \n",
      "=================================================================\n",
      "Total params: 622,052\n",
      "Trainable params: 622,052\n",
      "Non-trainable params: 0\n",
      "_________________________________________________________________\n"
     ]
    }
   ],
   "source": [
    "model.summary()"
   ]
  },
  {
   "cell_type": "code",
   "execution_count": 16,
   "id": "8YOZcdqaIjSC",
   "metadata": {
    "executionInfo": {
     "elapsed": 18,
     "status": "ok",
     "timestamp": 1653112427536,
     "user": {
      "displayName": "swapnil powar",
      "userId": "11396351717899233413"
     },
     "user_tz": -330
    },
    "id": "8YOZcdqaIjSC"
   },
   "outputs": [],
   "source": [
    "#Image processing\n",
    "from keras.preprocessing.image import ImageDataGenerator\n",
    "train_datagen = ImageDataGenerator(\n",
    "        rescale=1./255, \n",
    "        shear_range=0.2,\n",
    "        zoom_range=0.2,\n",
    "        horizontal_flip=True)"
   ]
  },
  {
   "cell_type": "code",
   "execution_count": 17,
   "id": "BGUhG2cuJARA",
   "metadata": {
    "executionInfo": {
     "elapsed": 19,
     "status": "ok",
     "timestamp": 1653112427537,
     "user": {
      "displayName": "swapnil powar",
      "userId": "11396351717899233413"
     },
     "user_tz": -330
    },
    "id": "BGUhG2cuJARA"
   },
   "outputs": [],
   "source": [
    "test_datagen = ImageDataGenerator(rescale=1./255)"
   ]
  },
  {
   "cell_type": "code",
   "execution_count": 18,
   "id": "xBxa1Nr0JSxJ",
   "metadata": {
    "colab": {
     "base_uri": "https://localhost:8080/"
    },
    "executionInfo": {
     "elapsed": 5777,
     "status": "ok",
     "timestamp": 1653112433296,
     "user": {
      "displayName": "swapnil powar",
      "userId": "11396351717899233413"
     },
     "user_tz": -330
    },
    "id": "xBxa1Nr0JSxJ",
    "outputId": "9e97cbc6-ed06-40cc-fcf0-9be7648a052b"
   },
   "outputs": [
    {
     "name": "stdout",
     "output_type": "stream",
     "text": [
      "Found 2870 images belonging to 4 classes.\n"
     ]
    }
   ],
   "source": [
    "#Set the Directory\n",
    "train_set = train_datagen.flow_from_directory (\n",
    "    '/content/drive/MyDrive/DATA SCIENCE FILES/Brain Tumour Project/Training',\n",
    "    target_size=(64, 64), #Each and every image will be reshaped to 64x64 prior to being fed to the CNN\n",
    "    batch_size=32,\n",
    "    class_mode='categorical')"
   ]
  },
  {
   "cell_type": "code",
   "execution_count": 19,
   "id": "B6ujGkqbJpB0",
   "metadata": {
    "colab": {
     "base_uri": "https://localhost:8080/"
    },
    "executionInfo": {
     "elapsed": 1312,
     "status": "ok",
     "timestamp": 1653112434603,
     "user": {
      "displayName": "swapnil powar",
      "userId": "11396351717899233413"
     },
     "user_tz": -330
    },
    "id": "B6ujGkqbJpB0",
    "outputId": "b22feca3-2b5d-46e8-c42c-7e9fbc098040"
   },
   "outputs": [
    {
     "name": "stdout",
     "output_type": "stream",
     "text": [
      "Found 394 images belonging to 4 classes.\n"
     ]
    }
   ],
   "source": [
    "test_set = test_datagen.flow_from_directory(\n",
    "    '/content/drive/MyDrive/DATA SCIENCE FILES/Brain Tumour Project/Testing',\n",
    "        target_size=(64, 64),\n",
    "        batch_size=32,\n",
    "        class_mode='categorical')"
   ]
  },
  {
   "cell_type": "code",
   "execution_count": 20,
   "id": "9e_Pb18oJ9MJ",
   "metadata": {
    "colab": {
     "base_uri": "https://localhost:8080/"
    },
    "executionInfo": {
     "elapsed": 13,
     "status": "ok",
     "timestamp": 1653112434604,
     "user": {
      "displayName": "swapnil powar",
      "userId": "11396351717899233413"
     },
     "user_tz": -330
    },
    "id": "9e_Pb18oJ9MJ",
    "outputId": "ebdd8106-6f4b-4b34-85b7-50e1ce6015ee"
   },
   "outputs": [
    {
     "data": {
      "text/plain": [
       "90"
      ]
     },
     "execution_count": 20,
     "metadata": {},
     "output_type": "execute_result"
    }
   ],
   "source": [
    "len(train_set)"
   ]
  },
  {
   "cell_type": "code",
   "execution_count": 23,
   "id": "wQFEmPDBKUEm",
   "metadata": {
    "colab": {
     "base_uri": "https://localhost:8080/"
    },
    "executionInfo": {
     "elapsed": 176474,
     "status": "ok",
     "timestamp": 1653114936733,
     "user": {
      "displayName": "swapnil powar",
      "userId": "11396351717899233413"
     },
     "user_tz": -330
    },
    "id": "wQFEmPDBKUEm",
    "outputId": "c9fdcafc-021d-44f5-8a62-5f967fbf18d6"
   },
   "outputs": [
    {
     "name": "stdout",
     "output_type": "stream",
     "text": [
      "Epoch 1/10\n",
      "90/90 [==============================] - 17s 189ms/step - loss: 0.5322 - accuracy: 0.7840 - val_loss: 1.6493 - val_accuracy: 0.5787\n",
      "Epoch 2/10\n",
      "90/90 [==============================] - 17s 186ms/step - loss: 0.4702 - accuracy: 0.8132 - val_loss: 2.0176 - val_accuracy: 0.5584\n",
      "Epoch 3/10\n",
      "90/90 [==============================] - 17s 185ms/step - loss: 0.4544 - accuracy: 0.8164 - val_loss: 2.5685 - val_accuracy: 0.5102\n",
      "Epoch 4/10\n",
      "90/90 [==============================] - 17s 185ms/step - loss: 0.4579 - accuracy: 0.8111 - val_loss: 1.5526 - val_accuracy: 0.6193\n",
      "Epoch 5/10\n",
      "90/90 [==============================] - 17s 186ms/step - loss: 0.4045 - accuracy: 0.8341 - val_loss: 1.9462 - val_accuracy: 0.5787\n",
      "Epoch 6/10\n",
      "90/90 [==============================] - 17s 185ms/step - loss: 0.4012 - accuracy: 0.8387 - val_loss: 1.8243 - val_accuracy: 0.5787\n",
      "Epoch 7/10\n",
      "90/90 [==============================] - 17s 188ms/step - loss: 0.3783 - accuracy: 0.8467 - val_loss: 1.5191 - val_accuracy: 0.6421\n",
      "Epoch 8/10\n",
      "90/90 [==============================] - 17s 187ms/step - loss: 0.3845 - accuracy: 0.8449 - val_loss: 2.1275 - val_accuracy: 0.5711\n",
      "Epoch 9/10\n",
      "90/90 [==============================] - 17s 187ms/step - loss: 0.3825 - accuracy: 0.8523 - val_loss: 1.4404 - val_accuracy: 0.6396\n",
      "Epoch 10/10\n",
      "90/90 [==============================] - 17s 187ms/step - loss: 0.3587 - accuracy: 0.8575 - val_loss: 1.8195 - val_accuracy: 0.6421\n"
     ]
    },
    {
     "data": {
      "text/plain": [
       "<keras.callbacks.History at 0x7f36f2a77b50>"
      ]
     },
     "execution_count": 23,
     "metadata": {},
     "output_type": "execute_result"
    }
   ],
   "source": [
    "#Fitting the model\n",
    "model.fit(train_set, #Exclusively we do not need to specify 'y' here\n",
    "        steps_per_epoch= len(train_set), #No of batches the CNN goes through before we call it a logical epoch\n",
    "        epochs=10,\n",
    "        validation_data=test_set,\n",
    "        validation_steps=len(test_set))"
   ]
  },
  {
   "cell_type": "code",
   "execution_count": 24,
   "id": "HRL-4syTUE9N",
   "metadata": {
    "executionInfo": {
     "elapsed": 11,
     "status": "ok",
     "timestamp": 1653116688014,
     "user": {
      "displayName": "swapnil powar",
      "userId": "11396351717899233413"
     },
     "user_tz": -330
    },
    "id": "HRL-4syTUE9N"
   },
   "outputs": [],
   "source": [
    "#Predicting a New Image"
   ]
  },
  {
   "cell_type": "code",
   "execution_count": 25,
   "id": "CCM-gfzpbsfA",
   "metadata": {
    "executionInfo": {
     "elapsed": 4,
     "status": "ok",
     "timestamp": 1653116704145,
     "user": {
      "displayName": "swapnil powar",
      "userId": "11396351717899233413"
     },
     "user_tz": -330
    },
    "id": "CCM-gfzpbsfA"
   },
   "outputs": [],
   "source": [
    "import numpy as np\n",
    "from keras.preprocessing import image"
   ]
  },
  {
   "cell_type": "code",
   "execution_count": 35,
   "id": "9pbCGWeubwRJ",
   "metadata": {
    "executionInfo": {
     "elapsed": 1830,
     "status": "ok",
     "timestamp": 1653117161238,
     "user": {
      "displayName": "swapnil powar",
      "userId": "11396351717899233413"
     },
     "user_tz": -330
    },
    "id": "9pbCGWeubwRJ"
   },
   "outputs": [],
   "source": [
    "#importing meningioma kind of image\n",
    "new_image=image.load_img('/content/drive/MyDrive/DATA SCIENCE FILES/Brain Tumour Project/MENINGIOMA02.jpg',target_size=(64,64))"
   ]
  },
  {
   "cell_type": "code",
   "execution_count": 36,
   "id": "kS9h4_Rqcke3",
   "metadata": {
    "colab": {
     "base_uri": "https://localhost:8080/",
     "height": 81
    },
    "executionInfo": {
     "elapsed": 8,
     "status": "ok",
     "timestamp": 1653117164954,
     "user": {
      "displayName": "swapnil powar",
      "userId": "11396351717899233413"
     },
     "user_tz": -330
    },
    "id": "kS9h4_Rqcke3",
    "outputId": "1878c55a-adf6-4d28-c959-36aa7b10dafd"
   },
   "outputs": [
    {
     "data": {
      "image/png": "[encoded data removed]",
      "text/plain": [
       "<PIL.Image.Image image mode=RGB size=64x64 at 0x7F37062F8F50>"
      ]
     },
     "execution_count": 36,
     "metadata": {},
     "output_type": "execute_result"
    }
   ],
   "source": [
    "new_image"
   ]
  },
  {
   "cell_type": "code",
   "execution_count": 37,
   "id": "W1L4wggCcqIe",
   "metadata": {
    "executionInfo": {
     "elapsed": 2,
     "status": "ok",
     "timestamp": 1653117168590,
     "user": {
      "displayName": "swapnil powar",
      "userId": "11396351717899233413"
     },
     "user_tz": -330
    },
    "id": "W1L4wggCcqIe"
   },
   "outputs": [],
   "source": [
    "new_image=image.img_to_array(new_image)"
   ]
  },
  {
   "cell_type": "code",
   "execution_count": 38,
   "id": "aoqGHqCXcvu0",
   "metadata": {
    "colab": {
     "base_uri": "https://localhost:8080/"
    },
    "executionInfo": {
     "elapsed": 4,
     "status": "ok",
     "timestamp": 1653117171508,
     "user": {
      "displayName": "swapnil powar",
      "userId": "11396351717899233413"
     },
     "user_tz": -330
    },
    "id": "aoqGHqCXcvu0",
    "outputId": "beecceec-6149-47e9-b18c-336f8c6ef89a"
   },
   "outputs": [
    {
     "data": {
      "text/plain": [
       "(64, 64, 3)"
      ]
     },
     "execution_count": 38,
     "metadata": {},
     "output_type": "execute_result"
    }
   ],
   "source": [
    "new_image.shape"
   ]
  },
  {
   "cell_type": "code",
   "execution_count": 39,
   "id": "o-zZVHJwc1j6",
   "metadata": {
    "colab": {
     "base_uri": "https://localhost:8080/",
     "height": 285
    },
    "executionInfo": {
     "elapsed": 15,
     "status": "ok",
     "timestamp": 1653117175786,
     "user": {
      "displayName": "swapnil powar",
      "userId": "11396351717899233413"
     },
     "user_tz": -330
    },
    "id": "o-zZVHJwc1j6",
    "outputId": "8a8b2098-6e8b-4337-c94a-8fddc8556011"
   },
   "outputs": [
    {
     "data": {
      "text/plain": [
       "<matplotlib.image.AxesImage at 0x7f36f24d25d0>"
      ]
     },
     "execution_count": 39,
     "metadata": {},
     "output_type": "execute_result"
    },
    {
     "data": {
      "image/png": "[encoded data removed]",
      "text/plain": [
       "<Figure size 432x288 with 1 Axes>"
      ]
     },
     "metadata": {
      "needs_background": "light"
     },
     "output_type": "display_data"
    }
   ],
   "source": [
    "import matplotlib.pyplot as plt\n",
    "plt.imshow(new_image.astype(int))"
   ]
  },
  {
   "cell_type": "code",
   "execution_count": 40,
   "id": "Gv9KEGENc4Bc",
   "metadata": {
    "colab": {
     "base_uri": "https://localhost:8080/"
    },
    "executionInfo": {
     "elapsed": 1202,
     "status": "ok",
     "timestamp": 1653117181351,
     "user": {
      "displayName": "swapnil powar",
      "userId": "11396351717899233413"
     },
     "user_tz": -330
    },
    "id": "Gv9KEGENc4Bc",
    "outputId": "b0c7a3d8-8f85-473e-9f39-183dc8d2f49c"
   },
   "outputs": [
    {
     "data": {
      "text/plain": [
       "(1, 64, 64, 3)"
      ]
     },
     "execution_count": 40,
     "metadata": {},
     "output_type": "execute_result"
    }
   ],
   "source": [
    "new_image=np.expand_dims(new_image,axis=0)\n",
    "new_image.shape"
   ]
  },
  {
   "cell_type": "code",
   "execution_count": 41,
   "id": "_ZDpK_0udGyg",
   "metadata": {
    "executionInfo": {
     "elapsed": 3,
     "status": "ok",
     "timestamp": 1653117183054,
     "user": {
      "displayName": "swapnil powar",
      "userId": "11396351717899233413"
     },
     "user_tz": -330
    },
    "id": "_ZDpK_0udGyg"
   },
   "outputs": [],
   "source": [
    "result=model.predict(new_image)"
   ]
  },
  {
   "cell_type": "code",
   "execution_count": 42,
   "id": "VHH8UKvJdKzn",
   "metadata": {
    "colab": {
     "base_uri": "https://localhost:8080/"
    },
    "executionInfo": {
     "elapsed": 3,
     "status": "ok",
     "timestamp": 1653117186242,
     "user": {
      "displayName": "swapnil powar",
      "userId": "11396351717899233413"
     },
     "user_tz": -330
    },
    "id": "VHH8UKvJdKzn",
    "outputId": "54436275-d163-4905-d844-884a08a59f63"
   },
   "outputs": [
    {
     "data": {
      "text/plain": [
       "array([[0., 1., 0., 0.]], dtype=float32)"
      ]
     },
     "execution_count": 42,
     "metadata": {},
     "output_type": "execute_result"
    }
   ],
   "source": [
    "result"
   ]
  },
  {
   "cell_type": "code",
   "execution_count": 43,
   "id": "96zFjQd9dMtA",
   "metadata": {
    "colab": {
     "base_uri": "https://localhost:8080/"
    },
    "executionInfo": {
     "elapsed": 696,
     "status": "ok",
     "timestamp": 1653117230689,
     "user": {
      "displayName": "swapnil powar",
      "userId": "11396351717899233413"
     },
     "user_tz": -330
    },
    "id": "96zFjQd9dMtA",
    "outputId": "5eda9c2b-53b2-4951-84cb-77c769aba7e6"
   },
   "outputs": [
    {
     "data": {
      "text/plain": [
       "{'glioma_tumor': 0, 'meningioma_tumor': 1, 'no_tumor': 2, 'pituitary_tumor': 3}"
      ]
     },
     "execution_count": 43,
     "metadata": {},
     "output_type": "execute_result"
    }
   ],
   "source": [
    "train_set.class_indices"
   ]
  },
  {
   "cell_type": "code",
   "execution_count": 45,
   "id": "YTonlU6wi7sx",
   "metadata": {
    "colab": {
     "base_uri": "https://localhost:8080/"
    },
    "executionInfo": {
     "elapsed": 804,
     "status": "ok",
     "timestamp": 1653118604426,
     "user": {
      "displayName": "swapnil powar",
      "userId": "11396351717899233413"
     },
     "user_tz": -330
    },
    "id": "YTonlU6wi7sx",
    "outputId": "2b40b58c-4f63-4b04-8099-bd0cb5247d98"
   },
   "outputs": [
    {
     "name": "stdout",
     "output_type": "stream",
     "text": [
      "Model: \"sequential\"\n",
      "_________________________________________________________________\n",
      " Layer (type)                Output Shape              Param #   \n",
      "=================================================================\n",
      " conv2d (Conv2D)             (None, 62, 62, 32)        896       \n",
      "                                                                 \n",
      " max_pooling2d (MaxPooling2D  (None, 31, 31, 32)       0         \n",
      " )                                                               \n",
      "                                                                 \n",
      " conv2d_1 (Conv2D)           (None, 29, 29, 32)        9248      \n",
      "                                                                 \n",
      " max_pooling2d_1 (MaxPooling  (None, 14, 14, 32)       0         \n",
      " 2D)                                                             \n",
      "                                                                 \n",
      " conv2d_2 (Conv2D)           (None, 12, 12, 32)        9248      \n",
      "                                                                 \n",
      " max_pooling2d_2 (MaxPooling  (None, 6, 6, 32)         0         \n",
      " 2D)                                                             \n",
      "                                                                 \n",
      " conv2d_3 (Conv2D)           (None, 4, 4, 32)          9248      \n",
      "                                                                 \n",
      " max_pooling2d_3 (MaxPooling  (None, 2, 2, 32)         0         \n",
      " 2D)                                                             \n",
      "                                                                 \n",
      " flatten (Flatten)           (None, 128)               0         \n",
      "                                                                 \n",
      " dense (Dense)               (None, 512)               66048     \n",
      "                                                                 \n",
      " dense_1 (Dense)             (None, 512)               262656    \n",
      "                                                                 \n",
      " dense_2 (Dense)             (None, 512)               262656    \n",
      "                                                                 \n",
      " dense_3 (Dense)             (None, 4)                 2052      \n",
      "                                                                 \n",
      "=================================================================\n",
      "Total params: 622,052\n",
      "Trainable params: 622,052\n",
      "Non-trainable params: 0\n",
      "_________________________________________________________________\n"
     ]
    }
   ],
   "source": [
    "model.summary()"
   ]
  },
  {
   "cell_type": "code",
   "execution_count": null,
   "id": "CDwxnRmGi980",
   "metadata": {
    "id": "CDwxnRmGi980"
   },
   "outputs": [],
   "source": [
    " "
   ]
  }
 ],
 "metadata": {
  "accelerator": "GPU",
  "colab": {
   "collapsed_sections": [],
   "name": "Brain Tumour Classification by CNN.ipynb",
   "provenance": []
  },
  "kernelspec": {
   "display_name": "Python 3",
   "language": "python",
   "name": "python3"
  },
  "language_info": {
   "codemirror_mode": {
    "name": "ipython",
    "version": 3
   },
   "file_extension": ".py",
   "mimetype": "text/x-python",
   "name": "python",
   "nbconvert_exporter": "python",
   "pygments_lexer": "ipython3",
   "version": "3.8.8"
  }
 },
 "nbformat": 4,
 "nbformat_minor": 5
}
